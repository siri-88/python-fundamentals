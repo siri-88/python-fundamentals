{
 "cells": [
  {
   "cell_type": "code",
   "execution_count": 1,
   "id": "679365ef",
   "metadata": {},
   "outputs": [
    {
     "data": {
      "text/plain": [
       "['varshi', 'lithwi', 'siri', 'pavan', 'nishu', 'rithwik']"
      ]
     },
     "execution_count": 1,
     "metadata": {},
     "output_type": "execute_result"
    }
   ],
   "source": [
    "students=[\"varshi\",\"lithwi\",\"siri\",\"pavan\",\"nishu\",\"rithwik\"]\n",
    "students"
   ]
  },
  {
   "cell_type": "code",
   "execution_count": 2,
   "id": "29ebe305",
   "metadata": {},
   "outputs": [],
   "source": [
    "##i want to appreciate above students in list"
   ]
  },
  {
   "cell_type": "code",
   "execution_count": 3,
   "id": "cfffe431",
   "metadata": {},
   "outputs": [
    {
     "ename": "AttributeError",
     "evalue": "'list' object has no attribute 'title'",
     "output_type": "error",
     "traceback": [
      "\u001b[1;31m---------------------------------------------------------------------------\u001b[0m",
      "\u001b[1;31mAttributeError\u001b[0m                            Traceback (most recent call last)",
      "\u001b[1;32m<ipython-input-3-712e2cf5bd49>\u001b[0m in \u001b[0;36m<module>\u001b[1;34m\u001b[0m\n\u001b[1;32m----> 1\u001b[1;33m \u001b[0mprint\u001b[0m\u001b[1;33m(\u001b[0m\u001b[1;34mf\"keep up the good work,{students.title()}\"\u001b[0m\u001b[1;33m)\u001b[0m\u001b[1;33m\u001b[0m\u001b[1;33m\u001b[0m\u001b[0m\n\u001b[0m",
      "\u001b[1;31mAttributeError\u001b[0m: 'list' object has no attribute 'title'"
     ]
    }
   ],
   "source": [
    "print(f\"keep up the good work,{students.title()}\")"
   ]
  },
  {
   "cell_type": "code",
   "execution_count": 4,
   "id": "91363145",
   "metadata": {},
   "outputs": [
    {
     "name": "stdout",
     "output_type": "stream",
     "text": [
      "keep up the good work,Varshi\n"
     ]
    }
   ],
   "source": [
    "print(f\"keep up the good work,{students[0].title()}\")"
   ]
  },
  {
   "cell_type": "code",
   "execution_count": 6,
   "id": "93494d6c",
   "metadata": {},
   "outputs": [
    {
     "name": "stdout",
     "output_type": "stream",
     "text": [
      "keep up the good work,Siri\n"
     ]
    }
   ],
   "source": [
    "print(f\"keep up the good work,{students[2].title()}\")"
   ]
  },
  {
   "cell_type": "code",
   "execution_count": 7,
   "id": "1962287b",
   "metadata": {},
   "outputs": [],
   "source": [
    "## appreciate all the students"
   ]
  },
  {
   "cell_type": "code",
   "execution_count": 10,
   "id": "3d49d54a",
   "metadata": {},
   "outputs": [
    {
     "name": "stdout",
     "output_type": "stream",
     "text": [
      "keep up the good work,Varshi\n",
      "keep up the good work,Lithwi\n",
      "keep up the good work,Siri\n",
      "keep up the good work,Pavan\n",
      "keep up the good work,Nishu\n",
      "keep up the good work,Rithwik\n"
     ]
    }
   ],
   "source": [
    "for x in students:\n",
    "    print(f\"keep up the good work,{x.title()}\")"
   ]
  },
  {
   "cell_type": "code",
   "execution_count": 11,
   "id": "83a483bc",
   "metadata": {},
   "outputs": [
    {
     "name": "stdout",
     "output_type": "stream",
     "text": [
      "keep up the good work,Varshi\n",
      "\n",
      "keep up the good work,Lithwi\n",
      "\n",
      "keep up the good work,Siri\n",
      "\n",
      "keep up the good work,Pavan\n",
      "\n",
      "keep up the good work,Nishu\n",
      "\n",
      "keep up the good work,Rithwik\n",
      "\n"
     ]
    }
   ],
   "source": [
    "for x in students:\n",
    "    print(f\"keep up the good work,{x.title()}\\n\")"
   ]
  },
  {
   "cell_type": "code",
   "execution_count": 12,
   "id": "ab2290af",
   "metadata": {},
   "outputs": [
    {
     "name": "stdout",
     "output_type": "stream",
     "text": [
      "keep up the good work,Varshi\n",
      "U r all good students,Varshi\n",
      "\n",
      "keep up the good work,Lithwi\n",
      "U r all good students,Lithwi\n",
      "\n",
      "keep up the good work,Siri\n",
      "U r all good students,Siri\n",
      "\n",
      "keep up the good work,Pavan\n",
      "U r all good students,Pavan\n",
      "\n",
      "keep up the good work,Nishu\n",
      "U r all good students,Nishu\n",
      "\n",
      "keep up the good work,Rithwik\n",
      "U r all good students,Rithwik\n",
      "\n"
     ]
    }
   ],
   "source": [
    "for x in students:\n",
    "    print(f\"keep up the good work,{x.title()}\")\n",
    "    print(f\"U r all good students,{x.title()}\\n\")"
   ]
  },
  {
   "cell_type": "code",
   "execution_count": 13,
   "id": "15b7f4ea",
   "metadata": {},
   "outputs": [
    {
     "name": "stdout",
     "output_type": "stream",
     "text": [
      "keep up the good work,Varshi\n",
      "U r all good students,Varshi\n",
      "\n",
      "keep up the good work,Lithwi\n",
      "U r all good students,Lithwi\n",
      "\n",
      "keep up the good work,Siri\n",
      "U r all good students,Siri\n",
      "\n",
      "keep up the good work,Pavan\n",
      "U r all good students,Pavan\n",
      "\n",
      "keep up the good work,Nishu\n",
      "U r all good students,Nishu\n",
      "\n",
      "keep up the good work,Rithwik\n",
      "U r all good students,Rithwik\n",
      "\n",
      "v thank all the students for the efforts\n"
     ]
    }
   ],
   "source": [
    "for x in students:\n",
    "    print(f\"keep up the good work,{x.title()}\")\n",
    "    print(f\"U r all good students,{x.title()}\\n\")\n",
    "    \n",
    "print(\"v thank all the students for the efforts\")    "
   ]
  },
  {
   "cell_type": "code",
   "execution_count": 14,
   "id": "1772df56",
   "metadata": {},
   "outputs": [],
   "source": [
    "##slicing"
   ]
  },
  {
   "cell_type": "code",
   "execution_count": 15,
   "id": "6eff9e48",
   "metadata": {},
   "outputs": [
    {
     "data": {
      "text/plain": [
       "['varshi', 'lithwi', 'siri', 'pavan', 'nishu', 'rithwik']"
      ]
     },
     "execution_count": 15,
     "metadata": {},
     "output_type": "execute_result"
    }
   ],
   "source": [
    "students"
   ]
  },
  {
   "cell_type": "code",
   "execution_count": 16,
   "id": "1d8b12ad",
   "metadata": {},
   "outputs": [
    {
     "data": {
      "text/plain": [
       "['varshi', 'lithwi', 'siri', 'pavan', 'nishu']"
      ]
     },
     "execution_count": 16,
     "metadata": {},
     "output_type": "execute_result"
    }
   ],
   "source": [
    "students[0:5]"
   ]
  },
  {
   "cell_type": "code",
   "execution_count": 18,
   "id": "92ad44fb",
   "metadata": {},
   "outputs": [
    {
     "data": {
      "text/plain": [
       "['varshi', 'siri', 'nishu']"
      ]
     },
     "execution_count": 18,
     "metadata": {},
     "output_type": "execute_result"
    }
   ],
   "source": [
    "students[0:5:2]"
   ]
  },
  {
   "cell_type": "code",
   "execution_count": null,
   "id": "e2f956f2",
   "metadata": {},
   "outputs": [],
   "source": []
  }
 ],
 "metadata": {
  "kernelspec": {
   "display_name": "Python 3",
   "language": "python",
   "name": "python3"
  },
  "language_info": {
   "codemirror_mode": {
    "name": "ipython",
    "version": 3
   },
   "file_extension": ".py",
   "mimetype": "text/x-python",
   "name": "python",
   "nbconvert_exporter": "python",
   "pygments_lexer": "ipython3",
   "version": "3.8.8"
  }
 },
 "nbformat": 4,
 "nbformat_minor": 5
}
