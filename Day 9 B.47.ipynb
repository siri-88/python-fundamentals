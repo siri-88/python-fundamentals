{
 "cells": [
  {
   "cell_type": "code",
   "execution_count": 1,
   "id": "79de2e76",
   "metadata": {},
   "outputs": [],
   "source": [
    "## adding new key pairs"
   ]
  },
  {
   "cell_type": "code",
   "execution_count": 2,
   "id": "b5cc0947",
   "metadata": {},
   "outputs": [],
   "source": [
    "name={\"a\":1,\"b\":2,\"c\":3}"
   ]
  },
  {
   "cell_type": "code",
   "execution_count": 3,
   "id": "a221ab67",
   "metadata": {},
   "outputs": [
    {
     "data": {
      "text/plain": [
       "{'a': 1, 'b': 2, 'c': 3}"
      ]
     },
     "execution_count": 3,
     "metadata": {},
     "output_type": "execute_result"
    }
   ],
   "source": [
    "name"
   ]
  },
  {
   "cell_type": "code",
   "execution_count": 4,
   "id": "ba5e2384",
   "metadata": {},
   "outputs": [
    {
     "data": {
      "text/plain": [
       "dict"
      ]
     },
     "execution_count": 4,
     "metadata": {},
     "output_type": "execute_result"
    }
   ],
   "source": [
    "type(name)"
   ]
  },
  {
   "cell_type": "code",
   "execution_count": 5,
   "id": "12c4e84a",
   "metadata": {},
   "outputs": [],
   "source": [
    "## adding \"d\" key"
   ]
  },
  {
   "cell_type": "code",
   "execution_count": 6,
   "id": "820db57e",
   "metadata": {},
   "outputs": [],
   "source": [
    "name[\"d\"]=4"
   ]
  },
  {
   "cell_type": "code",
   "execution_count": 7,
   "id": "1990ffe0",
   "metadata": {},
   "outputs": [
    {
     "data": {
      "text/plain": [
       "{'a': 1, 'b': 2, 'c': 3, 'd': 4}"
      ]
     },
     "execution_count": 7,
     "metadata": {},
     "output_type": "execute_result"
    }
   ],
   "source": [
    "name"
   ]
  },
  {
   "cell_type": "markdown",
   "id": "dded5b8a",
   "metadata": {},
   "source": []
  },
  {
   "cell_type": "code",
   "execution_count": 8,
   "id": "99673509",
   "metadata": {},
   "outputs": [],
   "source": [
    "## modify \"b\""
   ]
  },
  {
   "cell_type": "code",
   "execution_count": 9,
   "id": "28ecf8a1",
   "metadata": {},
   "outputs": [],
   "source": [
    "name[\"b\"]=5"
   ]
  },
  {
   "cell_type": "code",
   "execution_count": 10,
   "id": "f72730f3",
   "metadata": {},
   "outputs": [
    {
     "name": "stdout",
     "output_type": "stream",
     "text": [
      "{'a': 1, 'b': 5, 'c': 3, 'd': 4}\n"
     ]
    }
   ],
   "source": [
    "print(name)"
   ]
  },
  {
   "cell_type": "code",
   "execution_count": 11,
   "id": "02db5feb",
   "metadata": {},
   "outputs": [],
   "source": [
    "###deleting \"d\"key"
   ]
  },
  {
   "cell_type": "markdown",
   "id": "bd138f22",
   "metadata": {},
   "source": []
  },
  {
   "cell_type": "code",
   "execution_count": 12,
   "id": "fb0fe443",
   "metadata": {},
   "outputs": [],
   "source": [
    "del name[\"d\"]"
   ]
  },
  {
   "cell_type": "markdown",
   "id": "0babf7f0",
   "metadata": {},
   "source": [
    "name"
   ]
  },
  {
   "cell_type": "code",
   "execution_count": 13,
   "id": "f278a7d1",
   "metadata": {},
   "outputs": [
    {
     "name": "stdout",
     "output_type": "stream",
     "text": [
      "{'a': 1, 'b': 5, 'c': 3}\n"
     ]
    }
   ],
   "source": [
    "print(name)"
   ]
  },
  {
   "cell_type": "code",
   "execution_count": null,
   "id": "ac4bc7ad",
   "metadata": {},
   "outputs": [],
   "source": []
  }
 ],
 "metadata": {
  "kernelspec": {
   "display_name": "Python 3",
   "language": "python",
   "name": "python3"
  },
  "language_info": {
   "codemirror_mode": {
    "name": "ipython",
    "version": 3
   },
   "file_extension": ".py",
   "mimetype": "text/x-python",
   "name": "python",
   "nbconvert_exporter": "python",
   "pygments_lexer": "ipython3",
   "version": "3.8.8"
  }
 },
 "nbformat": 4,
 "nbformat_minor": 5
}
