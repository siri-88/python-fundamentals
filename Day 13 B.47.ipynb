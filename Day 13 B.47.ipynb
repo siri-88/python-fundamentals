{
 "cells": [
  {
   "cell_type": "code",
   "execution_count": 1,
   "id": "4c079ea2",
   "metadata": {},
   "outputs": [],
   "source": [
    "### speculative arguments"
   ]
  },
  {
   "cell_type": "code",
   "execution_count": 3,
   "id": "8f77eed1",
   "metadata": {},
   "outputs": [
    {
     "name": "stdout",
     "output_type": "stream",
     "text": [
      "My favourite fuits are,('Mango', 'Banana')\n"
     ]
    }
   ],
   "source": [
    "def x(*fruits):\n",
    "    print(f\"My favourite fuits are,{fruits}\")\n",
    "x(\"Mango\",\"Banana\")    \n",
    "    "
   ]
  },
  {
   "cell_type": "code",
   "execution_count": null,
   "id": "76227b75",
   "metadata": {},
   "outputs": [],
   "source": []
  },
  {
   "cell_type": "code",
   "execution_count": 4,
   "id": "a0baeb8b",
   "metadata": {},
   "outputs": [],
   "source": [
    "#### Return values"
   ]
  },
  {
   "cell_type": "code",
   "execution_count": 21,
   "id": "170367e4",
   "metadata": {},
   "outputs": [
    {
     "name": "stdout",
     "output_type": "stream",
     "text": [
      "20\n"
     ]
    },
    {
     "data": {
      "text/plain": [
       "(10, 20)"
      ]
     },
     "execution_count": 21,
     "metadata": {},
     "output_type": "execute_result"
    }
   ],
   "source": [
    "def display(a,b):\n",
    "    if a>=b:\n",
    "        a=a+1\n",
    "        print(a)\n",
    "    else:\n",
    "        print(b)\n",
    "    return a,b\n",
    "display(10,20)\n",
    "        "
   ]
  },
  {
   "cell_type": "code",
   "execution_count": 23,
   "id": "8a6718f5",
   "metadata": {},
   "outputs": [
    {
     "data": {
      "text/plain": [
       "'Lakshmi Sirisha'"
      ]
     },
     "execution_count": 23,
     "metadata": {},
     "output_type": "execute_result"
    }
   ],
   "source": [
    "def display(a,b):\n",
    "    result=f\"{a.title()} {b.title()}\"\n",
    "    return result\n",
    "display(\"lakshmi\",\"sirisha\")"
   ]
  },
  {
   "cell_type": "code",
   "execution_count": null,
   "id": "c5d9b474",
   "metadata": {},
   "outputs": [],
   "source": []
  },
  {
   "cell_type": "code",
   "execution_count": null,
   "id": "4dedaa56",
   "metadata": {},
   "outputs": [],
   "source": []
  },
  {
   "cell_type": "code",
   "execution_count": null,
   "id": "04693aa2",
   "metadata": {},
   "outputs": [],
   "source": [
    "\n",
    "    "
   ]
  },
  {
   "cell_type": "code",
   "execution_count": null,
   "id": "da7692af",
   "metadata": {},
   "outputs": [],
   "source": []
  }
 ],
 "metadata": {
  "kernelspec": {
   "display_name": "Python 3",
   "language": "python",
   "name": "python3"
  },
  "language_info": {
   "codemirror_mode": {
    "name": "ipython",
    "version": 3
   },
   "file_extension": ".py",
   "mimetype": "text/x-python",
   "name": "python",
   "nbconvert_exporter": "python",
   "pygments_lexer": "ipython3",
   "version": "3.8.8"
  }
 },
 "nbformat": 4,
 "nbformat_minor": 5
}
