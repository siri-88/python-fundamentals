{
 "cells": [
  {
   "cell_type": "code",
   "execution_count": 1,
   "id": "5284b1d2",
   "metadata": {},
   "outputs": [],
   "source": [
    "## organizing the list data type"
   ]
  },
  {
   "cell_type": "code",
   "execution_count": 2,
   "id": "d4cf0bae",
   "metadata": {},
   "outputs": [],
   "source": [
    "fruits=(\"grapes\",\"kiwi\",\"orange\",\"apple\",\"banana\",\" appapaya\",\"melon\")"
   ]
  },
  {
   "cell_type": "code",
   "execution_count": 3,
   "id": "4c8c998f",
   "metadata": {},
   "outputs": [],
   "source": [
    "#temporary in alphabetical order"
   ]
  },
  {
   "cell_type": "code",
   "execution_count": 4,
   "id": "5075d753",
   "metadata": {},
   "outputs": [
    {
     "name": "stdout",
     "output_type": "stream",
     "text": [
      "['apple', 'banana', 'grapes', 'kiwi', 'melon', 'orange', 'papaya']\n"
     ]
    }
   ],
   "source": [
    "print(sorted(fruits))"
   ]
  },
  {
   "cell_type": "code",
   "execution_count": 5,
   "id": "0b52fe41",
   "metadata": {},
   "outputs": [
    {
     "data": {
      "text/plain": [
       "('grapes', 'kiwi', 'orange', 'apple', 'banana', 'papaya', 'melon')"
      ]
     },
     "execution_count": 5,
     "metadata": {},
     "output_type": "execute_result"
    }
   ],
   "source": [
    "fruits"
   ]
  },
  {
   "cell_type": "code",
   "execution_count": 6,
   "id": "4a2902ea",
   "metadata": {},
   "outputs": [],
   "source": [
    "##permanent in alphabetical order"
   ]
  },
  {
   "cell_type": "code",
   "execution_count": 7,
   "id": "07a0dff9",
   "metadata": {},
   "outputs": [
    {
     "ename": "AttributeError",
     "evalue": "'tuple' object has no attribute 'sort'",
     "output_type": "error",
     "traceback": [
      "\u001b[1;31m---------------------------------------------------------------------------\u001b[0m",
      "\u001b[1;31mAttributeError\u001b[0m                            Traceback (most recent call last)",
      "\u001b[1;32m<ipython-input-7-075ba909948b>\u001b[0m in \u001b[0;36m<module>\u001b[1;34m\u001b[0m\n\u001b[1;32m----> 1\u001b[1;33m \u001b[0mfruits\u001b[0m\u001b[1;33m.\u001b[0m\u001b[0msort\u001b[0m\u001b[1;33m(\u001b[0m\u001b[1;33m)\u001b[0m\u001b[1;33m\u001b[0m\u001b[1;33m\u001b[0m\u001b[0m\n\u001b[0m",
      "\u001b[1;31mAttributeError\u001b[0m: 'tuple' object has no attribute 'sort'"
     ]
    }
   ],
   "source": [
    "fruits.sort()"
   ]
  },
  {
   "cell_type": "code",
   "execution_count": 8,
   "id": "84532fdd",
   "metadata": {},
   "outputs": [
    {
     "ename": "AttributeError",
     "evalue": "'tuple' object has no attribute 'sort'",
     "output_type": "error",
     "traceback": [
      "\u001b[1;31m---------------------------------------------------------------------------\u001b[0m",
      "\u001b[1;31mAttributeError\u001b[0m                            Traceback (most recent call last)",
      "\u001b[1;32m<ipython-input-8-9d7ad30ab8a5>\u001b[0m in \u001b[0;36m<module>\u001b[1;34m\u001b[0m\n\u001b[1;32m----> 1\u001b[1;33m \u001b[0mfruits\u001b[0m\u001b[1;33m.\u001b[0m\u001b[0msort\u001b[0m\u001b[1;33m(\u001b[0m\u001b[1;33m)\u001b[0m\u001b[1;33m\u001b[0m\u001b[1;33m\u001b[0m\u001b[0m\n\u001b[0m\u001b[0;32m      2\u001b[0m \u001b[0mfruits\u001b[0m\u001b[1;33m\u001b[0m\u001b[1;33m\u001b[0m\u001b[0m\n",
      "\u001b[1;31mAttributeError\u001b[0m: 'tuple' object has no attribute 'sort'"
     ]
    }
   ],
   "source": [
    "fruits.sort()\n",
    "fruits"
   ]
  },
  {
   "cell_type": "code",
   "execution_count": 9,
   "id": "cd8a525a",
   "metadata": {},
   "outputs": [],
   "source": [
    "fruits=[\"grapes\",\"kiwi\",\"orange\",\"apple\",\"banana\",\" appapaya\",\"melon\"]\n",
    "fruits.sort()"
   ]
  },
  {
   "cell_type": "code",
   "execution_count": 10,
   "id": "fecb5ba4",
   "metadata": {},
   "outputs": [
    {
     "data": {
      "text/plain": [
       "[' appapaya', 'apple', 'banana', 'grapes', 'kiwi', 'melon', 'orange']"
      ]
     },
     "execution_count": 10,
     "metadata": {},
     "output_type": "execute_result"
    }
   ],
   "source": [
    "fruits"
   ]
  },
  {
   "cell_type": "code",
   "execution_count": 11,
   "id": "dfa9b615",
   "metadata": {},
   "outputs": [],
   "source": [
    "fruits.sort()"
   ]
  },
  {
   "cell_type": "code",
   "execution_count": 12,
   "id": "f2e5771d",
   "metadata": {},
   "outputs": [
    {
     "data": {
      "text/plain": [
       "[' appapaya', 'apple', 'banana', 'grapes', 'kiwi', 'melon', 'orange']"
      ]
     },
     "execution_count": 12,
     "metadata": {},
     "output_type": "execute_result"
    }
   ],
   "source": [
    "fruits"
   ]
  },
  {
   "cell_type": "code",
   "execution_count": 13,
   "id": "80ae4789",
   "metadata": {},
   "outputs": [],
   "source": [
    "## reverse order"
   ]
  },
  {
   "cell_type": "code",
   "execution_count": 14,
   "id": "8c6c6d50",
   "metadata": {},
   "outputs": [],
   "source": [
    "fruits.reverse()"
   ]
  },
  {
   "cell_type": "code",
   "execution_count": 15,
   "id": "a255d65b",
   "metadata": {},
   "outputs": [
    {
     "data": {
      "text/plain": [
       "['orange', 'melon', 'kiwi', 'grapes', 'banana', 'apple', ' appapaya']"
      ]
     },
     "execution_count": 15,
     "metadata": {},
     "output_type": "execute_result"
    }
   ],
   "source": [
    "fruits"
   ]
  },
  {
   "cell_type": "code",
   "execution_count": 16,
   "id": "5ed5798c",
   "metadata": {},
   "outputs": [],
   "source": [
    "##counting no of elements present in the list"
   ]
  },
  {
   "cell_type": "code",
   "execution_count": 17,
   "id": "ed3d38a7",
   "metadata": {},
   "outputs": [
    {
     "data": {
      "text/plain": [
       "7"
      ]
     },
     "execution_count": 17,
     "metadata": {},
     "output_type": "execute_result"
    }
   ],
   "source": [
    "len(fruits)"
   ]
  },
  {
   "cell_type": "code",
   "execution_count": null,
   "id": "73ec1c9e",
   "metadata": {},
   "outputs": [],
   "source": []
  }
 ],
 "metadata": {
  "kernelspec": {
   "display_name": "Python 3",
   "language": "python",
   "name": "python3"
  },
  "language_info": {
   "codemirror_mode": {
    "name": "ipython",
    "version": 3
   },
   "file_extension": ".py",
   "mimetype": "text/x-python",
   "name": "python",
   "nbconvert_exporter": "python",
   "pygments_lexer": "ipython3",
   "version": "3.8.8"
  }
 },
 "nbformat": 4,
 "nbformat_minor": 5
}
