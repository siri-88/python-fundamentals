{
 "cells": [
  {
   "cell_type": "code",
   "execution_count": 1,
   "id": "c63ce369",
   "metadata": {},
   "outputs": [
    {
     "data": {
      "text/plain": [
       "['sirisha', 'pavan', 'varshini', 'lithwika']"
      ]
     },
     "execution_count": 1,
     "metadata": {},
     "output_type": "execute_result"
    }
   ],
   "source": [
    "a=['sirisha','pavan','varshini','lithwika']\n",
    "a"
   ]
  },
  {
   "cell_type": "code",
   "execution_count": 2,
   "id": "ab909eeb",
   "metadata": {},
   "outputs": [],
   "source": [
    "#enhancement of code"
   ]
  },
  {
   "cell_type": "code",
   "execution_count": 3,
   "id": "4875789d",
   "metadata": {},
   "outputs": [
    {
     "ename": "AttributeError",
     "evalue": "'list' object has no attribute 'title'",
     "output_type": "error",
     "traceback": [
      "\u001b[1;31m---------------------------------------------------------------------------\u001b[0m",
      "\u001b[1;31mAttributeError\u001b[0m                            Traceback (most recent call last)",
      "\u001b[1;32m<ipython-input-3-41dcf2139fdf>\u001b[0m in \u001b[0;36m<module>\u001b[1;34m\u001b[0m\n\u001b[1;32m----> 1\u001b[1;33m \u001b[0mprint\u001b[0m\u001b[1;33m(\u001b[0m\u001b[0ma\u001b[0m\u001b[1;33m.\u001b[0m\u001b[0mtitle\u001b[0m\u001b[1;33m(\u001b[0m\u001b[1;33m)\u001b[0m\u001b[1;33m)\u001b[0m\u001b[1;33m\u001b[0m\u001b[1;33m\u001b[0m\u001b[0m\n\u001b[0m",
      "\u001b[1;31mAttributeError\u001b[0m: 'list' object has no attribute 'title'"
     ]
    }
   ],
   "source": [
    "print(a.title())"
   ]
  },
  {
   "cell_type": "code",
   "execution_count": 4,
   "id": "59e8f795",
   "metadata": {},
   "outputs": [
    {
     "name": "stdout",
     "output_type": "stream",
     "text": [
      "Varshini\n"
     ]
    }
   ],
   "source": [
    "print(a[2].title())"
   ]
  },
  {
   "cell_type": "code",
   "execution_count": 5,
   "id": "4103593f",
   "metadata": {},
   "outputs": [],
   "source": [
    "#adding elements to the list\n"
   ]
  },
  {
   "cell_type": "code",
   "execution_count": 6,
   "id": "799e53ea",
   "metadata": {},
   "outputs": [],
   "source": [
    "a.append('siri')"
   ]
  },
  {
   "cell_type": "code",
   "execution_count": 7,
   "id": "42dcd12d",
   "metadata": {},
   "outputs": [
    {
     "data": {
      "text/plain": [
       "['sirisha', 'pavan', 'varshini', 'lithwika', 'siri']"
      ]
     },
     "execution_count": 7,
     "metadata": {},
     "output_type": "execute_result"
    }
   ],
   "source": [
    "a"
   ]
  },
  {
   "cell_type": "code",
   "execution_count": 8,
   "id": "6261dfdc",
   "metadata": {},
   "outputs": [],
   "source": [
    "a.insert(4,'amma')"
   ]
  },
  {
   "cell_type": "code",
   "execution_count": 9,
   "id": "55fff80c",
   "metadata": {},
   "outputs": [
    {
     "data": {
      "text/plain": [
       "['sirisha', 'pavan', 'varshini', 'lithwika', 'amma', 'siri']"
      ]
     },
     "execution_count": 9,
     "metadata": {},
     "output_type": "execute_result"
    }
   ],
   "source": [
    "a"
   ]
  },
  {
   "cell_type": "code",
   "execution_count": 10,
   "id": "5264a207",
   "metadata": {},
   "outputs": [],
   "source": [
    "#modify elements in the list"
   ]
  },
  {
   "cell_type": "code",
   "execution_count": 11,
   "id": "8dcd8f2a",
   "metadata": {},
   "outputs": [],
   "source": [
    "a[4]='nanna'"
   ]
  },
  {
   "cell_type": "code",
   "execution_count": 12,
   "id": "c0723c06",
   "metadata": {},
   "outputs": [
    {
     "data": {
      "text/plain": [
       "['sirisha', 'pavan', 'varshini', 'lithwika', 'nanna', 'siri']"
      ]
     },
     "execution_count": 12,
     "metadata": {},
     "output_type": "execute_result"
    }
   ],
   "source": [
    "a"
   ]
  },
  {
   "cell_type": "code",
   "execution_count": 13,
   "id": "7071db6a",
   "metadata": {},
   "outputs": [],
   "source": [
    "#delete nanna from above list\n"
   ]
  },
  {
   "cell_type": "code",
   "execution_count": 14,
   "id": "7911fa32",
   "metadata": {},
   "outputs": [],
   "source": [
    "del a[4]"
   ]
  },
  {
   "cell_type": "code",
   "execution_count": 15,
   "id": "48f146a4",
   "metadata": {},
   "outputs": [
    {
     "data": {
      "text/plain": [
       "['sirisha', 'pavan', 'varshini', 'lithwika', 'siri']"
      ]
     },
     "execution_count": 15,
     "metadata": {},
     "output_type": "execute_result"
    }
   ],
   "source": [
    "a"
   ]
  },
  {
   "cell_type": "code",
   "execution_count": 16,
   "id": "eea9403c",
   "metadata": {},
   "outputs": [],
   "source": [
    "a.remove('siri')"
   ]
  },
  {
   "cell_type": "code",
   "execution_count": 17,
   "id": "813feccc",
   "metadata": {},
   "outputs": [
    {
     "data": {
      "text/plain": [
       "['sirisha', 'pavan', 'varshini', 'lithwika']"
      ]
     },
     "execution_count": 17,
     "metadata": {},
     "output_type": "execute_result"
    }
   ],
   "source": [
    "a"
   ]
  },
  {
   "cell_type": "code",
   "execution_count": 18,
   "id": "cfdaf530",
   "metadata": {},
   "outputs": [],
   "source": [
    "a.append(\"hasini\")"
   ]
  },
  {
   "cell_type": "code",
   "execution_count": 19,
   "id": "89354e09",
   "metadata": {},
   "outputs": [
    {
     "data": {
      "text/plain": [
       "['sirisha', 'pavan', 'varshini', 'lithwika', 'hasini']"
      ]
     },
     "execution_count": 19,
     "metadata": {},
     "output_type": "execute_result"
    }
   ],
   "source": [
    "a"
   ]
  },
  {
   "cell_type": "code",
   "execution_count": 20,
   "id": "3d3b4674",
   "metadata": {},
   "outputs": [
    {
     "data": {
      "text/plain": [
       "'hasini'"
      ]
     },
     "execution_count": 20,
     "metadata": {},
     "output_type": "execute_result"
    }
   ],
   "source": [
    "a.pop()"
   ]
  },
  {
   "cell_type": "code",
   "execution_count": 21,
   "id": "cb08720e",
   "metadata": {},
   "outputs": [
    {
     "data": {
      "text/plain": [
       "['sirisha', 'pavan', 'varshini', 'lithwika']"
      ]
     },
     "execution_count": 21,
     "metadata": {},
     "output_type": "execute_result"
    }
   ],
   "source": [
    "a"
   ]
  },
  {
   "cell_type": "code",
   "execution_count": null,
   "id": "d9e308ac",
   "metadata": {},
   "outputs": [],
   "source": []
  }
 ],
 "metadata": {
  "kernelspec": {
   "display_name": "Python 3",
   "language": "python",
   "name": "python3"
  },
  "language_info": {
   "codemirror_mode": {
    "name": "ipython",
    "version": 3
   },
   "file_extension": ".py",
   "mimetype": "text/x-python",
   "name": "python",
   "nbconvert_exporter": "python",
   "pygments_lexer": "ipython3",
   "version": "3.8.8"
  }
 },
 "nbformat": 4,
 "nbformat_minor": 5
}
