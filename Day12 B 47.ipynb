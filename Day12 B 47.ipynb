{
 "cells": [
  {
   "cell_type": "code",
   "execution_count": 1,
   "id": "a47cbec1",
   "metadata": {},
   "outputs": [],
   "source": [
    "##introduction to python functions"
   ]
  },
  {
   "cell_type": "code",
   "execution_count": 2,
   "id": "e32d7f04",
   "metadata": {},
   "outputs": [],
   "source": [
    "### code reusability"
   ]
  },
  {
   "cell_type": "code",
   "execution_count": 3,
   "id": "3d1f1675",
   "metadata": {},
   "outputs": [
    {
     "name": "stdout",
     "output_type": "stream",
     "text": [
      "10\n"
     ]
    }
   ],
   "source": [
    "a=10\n",
    "def display(): ##called function\n",
    "    print(a)\n",
    "display()  ### calling function"
   ]
  },
  {
   "cell_type": "code",
   "execution_count": null,
   "id": "30fb8fc5",
   "metadata": {},
   "outputs": [],
   "source": [
    "##enhancement of code"
   ]
  },
  {
   "cell_type": "code",
   "execution_count": 5,
   "id": "2bf39c17",
   "metadata": {},
   "outputs": [
    {
     "name": "stdout",
     "output_type": "stream",
     "text": [
      "My name is Sirisha\n"
     ]
    }
   ],
   "source": [
    "def name(x):\n",
    "    print(f\"My name is {x.title()}\")\n",
    "name(\"sirisha\")    "
   ]
  },
  {
   "cell_type": "code",
   "execution_count": 6,
   "id": "ff3cd2e3",
   "metadata": {},
   "outputs": [
    {
     "name": "stdout",
     "output_type": "stream",
     "text": [
      "My name is Pavan\n"
     ]
    }
   ],
   "source": [
    "name(\"pavan\")"
   ]
  },
  {
   "cell_type": "code",
   "execution_count": 7,
   "id": "d329ce89",
   "metadata": {},
   "outputs": [
    {
     "name": "stdout",
     "output_type": "stream",
     "text": [
      "My name is Varshini\n"
     ]
    }
   ],
   "source": [
    "name(\"varshini\")"
   ]
  },
  {
   "cell_type": "code",
   "execution_count": 10,
   "id": "79d11b0f",
   "metadata": {},
   "outputs": [
    {
     "name": "stdout",
     "output_type": "stream",
     "text": [
      "I lives in Hyderabad\n"
     ]
    }
   ],
   "source": [
    "def place(z):\n",
    "    print(f\"I lives in {z.title()}\")\n",
    "place(\"hyderabad\")    "
   ]
  },
  {
   "cell_type": "code",
   "execution_count": null,
   "id": "d1e0c298",
   "metadata": {},
   "outputs": [],
   "source": []
  },
  {
   "cell_type": "code",
   "execution_count": 11,
   "id": "72ce5e2c",
   "metadata": {},
   "outputs": [],
   "source": [
    "#### POSITIONAL ARGUMENTS"
   ]
  },
  {
   "cell_type": "code",
   "execution_count": 18,
   "id": "b8706f7b",
   "metadata": {},
   "outputs": [
    {
     "name": "stdout",
     "output_type": "stream",
     "text": [
      "x=10,y=20\n"
     ]
    }
   ],
   "source": [
    "def display(x,y):\n",
    "    print(f\"{x=},{y=}\")\n",
    "display(x=10,y=20)    "
   ]
  },
  {
   "cell_type": "code",
   "execution_count": 24,
   "id": "8fd3cc95",
   "metadata": {},
   "outputs": [
    {
     "name": "stdout",
     "output_type": "stream",
     "text": [
      "my favourite fruit is Mango,My favourite vegetable is Broccoli\n"
     ]
    }
   ],
   "source": [
    "def display(fruit,vegetable):\n",
    "    print(f\"my favourite fruit is {fruit.title()},My favourite vegetable is {vegetable.title()}\")\n",
    "display(\"mango\",\"broccoli\")    "
   ]
  },
  {
   "cell_type": "code",
   "execution_count": null,
   "id": "379ca433",
   "metadata": {},
   "outputs": [],
   "source": []
  },
  {
   "cell_type": "code",
   "execution_count": 23,
   "id": "38cece24",
   "metadata": {},
   "outputs": [],
   "source": [
    "### keyword arguments"
   ]
  },
  {
   "cell_type": "code",
   "execution_count": 26,
   "id": "0afdfdfd",
   "metadata": {},
   "outputs": [
    {
     "name": "stdout",
     "output_type": "stream",
     "text": [
      "my favourite fruit is Broccoli,My favourite vegetable is Mango\n"
     ]
    }
   ],
   "source": [
    "display(fruit=\"broccoli\",vegetable=\"mango\")"
   ]
  },
  {
   "cell_type": "code",
   "execution_count": null,
   "id": "413c21eb",
   "metadata": {},
   "outputs": [],
   "source": []
  },
  {
   "cell_type": "code",
   "execution_count": 27,
   "id": "9c86e5f5",
   "metadata": {},
   "outputs": [],
   "source": [
    "### default arguments"
   ]
  },
  {
   "cell_type": "code",
   "execution_count": 32,
   "id": "2679a896",
   "metadata": {},
   "outputs": [
    {
     "name": "stdout",
     "output_type": "stream",
     "text": [
      "sunday after Monday,monday after Tuesday\n"
     ]
    }
   ],
   "source": [
    "def show(a,b=\"Tuesday\"):\n",
    "    print(f\"sunday after {a.title()},monday after {b.title()}\")\n",
    "show(\"monday\")        "
   ]
  },
  {
   "cell_type": "code",
   "execution_count": null,
   "id": "913969ac",
   "metadata": {},
   "outputs": [],
   "source": []
  },
  {
   "cell_type": "code",
   "execution_count": null,
   "id": "0005d9f7",
   "metadata": {},
   "outputs": [],
   "source": []
  }
 ],
 "metadata": {
  "kernelspec": {
   "display_name": "Python 3",
   "language": "python",
   "name": "python3"
  },
  "language_info": {
   "codemirror_mode": {
    "name": "ipython",
    "version": 3
   },
   "file_extension": ".py",
   "mimetype": "text/x-python",
   "name": "python",
   "nbconvert_exporter": "python",
   "pygments_lexer": "ipython3",
   "version": "3.8.8"
  }
 },
 "nbformat": 4,
 "nbformat_minor": 5
}
