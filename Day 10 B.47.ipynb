{
 "cells": [
  {
   "cell_type": "code",
   "execution_count": 1,
   "id": "97ecae32",
   "metadata": {},
   "outputs": [],
   "source": [
    "## for loops in dictionaries"
   ]
  },
  {
   "cell_type": "code",
   "execution_count": 4,
   "id": "07457e93",
   "metadata": {},
   "outputs": [
    {
     "data": {
      "text/plain": [
       "{'varshini': 1, 'lithwika': 2, 'pavan': 3, 'sirisha': 4}"
      ]
     },
     "execution_count": 4,
     "metadata": {},
     "output_type": "execute_result"
    }
   ],
   "source": [
    "ranks={\"varshini\":1,\"lithwika\":2,\"pavan\":3,\"sirisha\":4}\n",
    "ranks"
   ]
  },
  {
   "cell_type": "code",
   "execution_count": 5,
   "id": "b7ddf62a",
   "metadata": {},
   "outputs": [
    {
     "data": {
      "text/plain": [
       "dict"
      ]
     },
     "execution_count": 5,
     "metadata": {},
     "output_type": "execute_result"
    }
   ],
   "source": [
    "type(ranks)"
   ]
  },
  {
   "cell_type": "code",
   "execution_count": null,
   "id": "1d79855a",
   "metadata": {},
   "outputs": [],
   "source": [
    "###general syntax of for loop"
   ]
  },
  {
   "cell_type": "code",
   "execution_count": 6,
   "id": "10d2de50",
   "metadata": {},
   "outputs": [
    {
     "name": "stdout",
     "output_type": "stream",
     "text": [
      "('varshini', 1)\n",
      "('lithwika', 2)\n",
      "('pavan', 3)\n",
      "('sirisha', 4)\n"
     ]
    }
   ],
   "source": [
    "for x in ranks.items():\n",
    "    print(x)"
   ]
  },
  {
   "cell_type": "code",
   "execution_count": 7,
   "id": "ca6cfaad",
   "metadata": {},
   "outputs": [],
   "source": [
    "## accessing only keys from the dict"
   ]
  },
  {
   "cell_type": "code",
   "execution_count": 9,
   "id": "6bb58c1e",
   "metadata": {},
   "outputs": [
    {
     "name": "stdout",
     "output_type": "stream",
     "text": [
      "key:varshini\n",
      "key:lithwika\n",
      "key:pavan\n",
      "key:sirisha\n"
     ]
    }
   ],
   "source": [
    "for x in ranks.keys():\n",
    "    print(f\"key:{x}\")"
   ]
  },
  {
   "cell_type": "code",
   "execution_count": 10,
   "id": "f8290151",
   "metadata": {},
   "outputs": [],
   "source": [
    "### accessing only values form the dic"
   ]
  },
  {
   "cell_type": "code",
   "execution_count": 12,
   "id": "d4b10d11",
   "metadata": {},
   "outputs": [
    {
     "name": "stdout",
     "output_type": "stream",
     "text": [
      "values:1\n",
      "values:2\n",
      "values:3\n",
      "values:4\n"
     ]
    }
   ],
   "source": [
    "for x in ranks.values():\n",
    "    print(f\"values:{x}\")"
   ]
  },
  {
   "cell_type": "code",
   "execution_count": null,
   "id": "fd7c42cf",
   "metadata": {},
   "outputs": [],
   "source": [
    "## for accessing key and values \n",
    "ranks.items\n",
    "## for accessing keys\n",
    "ranks.keys\n",
    "### for accessing only values\n",
    "ranks.values"
   ]
  },
  {
   "cell_type": "markdown",
   "id": "b5fd0acf",
   "metadata": {},
   "source": [
    "### for accessing both key and values"
   ]
  },
  {
   "cell_type": "code",
   "execution_count": 16,
   "id": "564a059b",
   "metadata": {},
   "outputs": [
    {
     "name": "stdout",
     "output_type": "stream",
     "text": [
      "key:varshini\n",
      "value:1\n",
      "\n",
      "key:lithwika\n",
      "value:2\n",
      "\n",
      "key:pavan\n",
      "value:3\n",
      "\n",
      "key:sirisha\n",
      "value:4\n",
      "\n"
     ]
    }
   ],
   "source": [
    "for x,y in ranks.items():\n",
    "    print(f\"key:{x}\")\n",
    "    print(f\"value:{y}\\n\")"
   ]
  },
  {
   "cell_type": "raw",
   "id": "72c846f7",
   "metadata": {},
   "source": [
    "### user accepted input"
   ]
  },
  {
   "cell_type": "code",
   "execution_count": 17,
   "id": "5039cca4",
   "metadata": {},
   "outputs": [
    {
     "name": "stdout",
     "output_type": "stream",
     "text": [
      "enter the value of a :10\n"
     ]
    }
   ],
   "source": [
    "x=input(\"enter the value of a :\")"
   ]
  },
  {
   "cell_type": "code",
   "execution_count": null,
   "id": "ece26a17",
   "metadata": {},
   "outputs": [],
   "source": []
  },
  {
   "cell_type": "code",
   "execution_count": null,
   "id": "2f43073f",
   "metadata": {},
   "outputs": [],
   "source": [
    "\n"
   ]
  },
  {
   "cell_type": "code",
   "execution_count": null,
   "id": "2609421f",
   "metadata": {},
   "outputs": [],
   "source": []
  }
 ],
 "metadata": {
  "kernelspec": {
   "display_name": "Python 3",
   "language": "python",
   "name": "python3"
  },
  "language_info": {
   "codemirror_mode": {
    "name": "ipython",
    "version": 3
   },
   "file_extension": ".py",
   "mimetype": "text/x-python",
   "name": "python",
   "nbconvert_exporter": "python",
   "pygments_lexer": "ipython3",
   "version": "3.8.8"
  }
 },
 "nbformat": 4,
 "nbformat_minor": 5
}
